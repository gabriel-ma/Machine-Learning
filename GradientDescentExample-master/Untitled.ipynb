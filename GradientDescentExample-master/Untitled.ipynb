{
 "cells": [
  {
   "cell_type": "code",
   "execution_count": 1,
   "metadata": {},
   "outputs": [
    {
     "name": "stdout",
     "output_type": "stream",
     "text": [
      "Starting gradient descent at b = 0, m = 0, error = 64.14546775491131\n",
      "Running...\n",
      "After 1000 iterations b = -0.061043725300537824, m = 0.8077926520338518, error = 11.631450024036447\n",
      "Currenct x = 5.8707\n",
      "Currenct y = 7.2029\n",
      "Predicted Value = 0.44942325391198434\n",
      "Currenct x = 5.3054\n",
      "Currenct y = 1.9869\n",
      "Predicted Value = 0.4839312718243784\n",
      "Currenct x = 8.2934\n",
      "Currenct y = 0.14454\n",
      "Predicted Value = 0.3015326206263713\n",
      "Currenct x = 13.394\n",
      "Currenct y = 9.0551\n",
      "Predicted Value = -0.00982700464155184\n",
      "Currenct x = 5.4369\n",
      "Currenct y = 0.61705\n",
      "Predicted Value = 0.4759040219473577\n"
     ]
    }
   ],
   "source": [
    "from numpy import *\n",
    "\n",
    "# y = mx + b\n",
    "# m is slope, b is y-intercept\n",
    "def compute_error_for_line_given_points(b, m, points):\n",
    "    totalError = 0\n",
    "    for i in range(0, len(points)):\n",
    "        x = points[i, 0]\n",
    "        y = points[i, 1]\n",
    "        totalError += (y - (m * x + b)) ** 2\n",
    "    return totalError / float(len(points))\n",
    "\n",
    "def step_gradient(b_current, m_current, points, learningRate):\n",
    "    b_gradient = 0\n",
    "    m_gradient = 0\n",
    "    N = float(len(points))\n",
    "    for i in range(0, len(points)):\n",
    "        x = points[i, 0]\n",
    "        y = points[i, 1]\n",
    "        b_gradient += -(2/N) * (y - ((m_current * x) + b_current))\n",
    "        m_gradient += -(2/N) * x * (y - ((m_current * x) + b_current))\n",
    "    new_b = b_current - (learningRate * b_gradient)\n",
    "    new_m = m_current - (learningRate * m_gradient)\n",
    "    return [new_b, new_m]\n",
    "\n",
    "def gradient_descent_runner(points, starting_b, starting_m, learning_rate, num_iterations):\n",
    "    b = starting_b\n",
    "    m = starting_m\n",
    "    for i in range(num_iterations):\n",
    "        b, m = step_gradient(b, m, array(points), learning_rate)\n",
    "    return [b, m]\n",
    "    #y = mx + b\n",
    "def line_function(m, b, x):\n",
    "    return m * x + b\n",
    "\n",
    "def run():\n",
    "    points = genfromtxt(\"new_Data.csv\", delimiter=\",\")\n",
    "    learning_rate = 0.0001\n",
    "    initial_b = 0 # initial y-intercept guess\n",
    "    initial_m = 0 # initial slope guess\n",
    "    num_iterations = 1000\n",
    "    print (\"Starting gradient descent at b = {0}, m = {1}, error = {2}\".format(initial_b, initial_m, compute_error_for_line_given_points(initial_b, initial_m, points)))\n",
    "    print (\"Running...\")\n",
    "    [b, m] = gradient_descent_runner(points, initial_b, initial_m, learning_rate, num_iterations)\n",
    "    print (\"After {0} iterations b = {1}, m = {2}, error = {3}\".format(num_iterations, b, m, compute_error_for_line_given_points(b, m, points)))\n",
    "    points = genfromtxt(\"new_Data_teste.csv\", delimiter=\",\")\n",
    "    for i in range(0, len(points)):\n",
    "        print(\"Currenct x = {0}\".format(points[i,0]))\n",
    "        print(\"Currenct y = {0}\".format(points[i,1]))\n",
    "        print(\"Predicted Value = {0}\".format(line_function(b,m,points[i,0])))\n",
    " \n",
    "\n",
    "\n",
    "if __name__ == '__main__':\n",
    "    run()\n",
    "\n"
   ]
  },
  {
   "cell_type": "code",
   "execution_count": null,
   "metadata": {
    "collapsed": true
   },
   "outputs": [],
   "source": []
  }
 ],
 "metadata": {
  "kernelspec": {
   "display_name": "Python 3",
   "language": "python",
   "name": "python3"
  },
  "language_info": {
   "codemirror_mode": {
    "name": "ipython",
    "version": 3
   },
   "file_extension": ".py",
   "mimetype": "text/x-python",
   "name": "python",
   "nbconvert_exporter": "python",
   "pygments_lexer": "ipython3",
   "version": "3.6.2"
  }
 },
 "nbformat": 4,
 "nbformat_minor": 2
}
